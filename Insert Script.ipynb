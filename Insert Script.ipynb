{
 "cells": [
  {
   "cell_type": "code",
   "execution_count": 1,
   "id": "11b56b6a",
   "metadata": {
    "ExecuteTime": {
     "end_time": "2023-10-12T11:30:10.885611Z",
     "start_time": "2023-10-12T11:30:09.637748Z"
    }
   },
   "outputs": [],
   "source": [
    "import pandas as pd"
   ]
  },
  {
   "cell_type": "code",
   "execution_count": 2,
   "id": "9f70aa2a",
   "metadata": {
    "ExecuteTime": {
     "end_time": "2023-10-12T11:30:14.755283Z",
     "start_time": "2023-10-12T11:30:13.777030Z"
    }
   },
   "outputs": [],
   "source": [
    "xls = pd.ExcelFile('CollegeData.xlsx')"
   ]
  },
  {
   "cell_type": "markdown",
   "id": "bbc664cf",
   "metadata": {},
   "source": [
    "## Seperate sheet"
   ]
  },
  {
   "cell_type": "code",
   "execution_count": 3,
   "id": "518b99a5",
   "metadata": {
    "ExecuteTime": {
     "end_time": "2023-10-12T11:34:03.490670Z",
     "start_time": "2023-10-12T11:34:03.392941Z"
    }
   },
   "outputs": [],
   "source": [
    "Faculty = pd.read_excel(xls, 'Faculty')\n",
    "courses = pd.read_excel(xls,'Courses')\n",
    "subject = pd.read_excel(xls,'Subjects')\n",
    "department = pd.read_excel(xls,'Department')\n",
    "student = pd.read_excel(xls,'Student')\n",
    "exam = pd.read_excel(xls,'Exam')"
   ]
  },
  {
   "cell_type": "markdown",
   "id": "8d9bd634",
   "metadata": {},
   "source": [
    "### Insert function"
   ]
  },
  {
   "cell_type": "code",
   "execution_count": 4,
   "id": "36c14f20",
   "metadata": {
    "ExecuteTime": {
     "end_time": "2023-10-12T11:34:14.465455Z",
     "start_time": "2023-10-12T11:34:14.449925Z"
    }
   },
   "outputs": [],
   "source": [
    "def excel_to_mysql_insert(excel_file, table_name):\n",
    "\n",
    "    df = excel_file.copy(deep=True)\n",
    "\n",
    "    columns = list(df.columns)\n",
    "    insert_statements = []\n",
    "\n",
    "    for _, row in df.iterrows():\n",
    "        values = [f\"'{str(value)}'\" for value in row]\n",
    "        insert_statement = f\"INSERT INTO {table_name} ({', '.join(columns)}) VALUES ({', '.join(values)});\"\n",
    "        insert_statements.append(insert_statement)\n",
    "    \n",
    "    return insert_statements"
   ]
  },
  {
   "cell_type": "markdown",
   "id": "0c2ac48f",
   "metadata": {},
   "source": [
    "Faculty = \n",
    "courses = \n",
    "subject = \n",
    "department\n",
    "student = \n",
    "exam = pd."
   ]
  },
  {
   "cell_type": "code",
   "execution_count": 16,
   "id": "d39c8669",
   "metadata": {
    "ExecuteTime": {
     "end_time": "2023-10-12T11:38:01.590177Z",
     "start_time": "2023-10-12T11:38:01.561175Z"
    }
   },
   "outputs": [],
   "source": [
    "insert_statements = excel_to_mysql_insert(exam, 'exam')"
   ]
  },
  {
   "cell_type": "code",
   "execution_count": 18,
   "id": "54a08769",
   "metadata": {
    "ExecuteTime": {
     "end_time": "2023-10-12T11:38:54.261931Z",
     "start_time": "2023-10-12T11:38:54.252672Z"
    }
   },
   "outputs": [
    {
     "data": {
      "text/plain": [
       "[\"INSERT INTO exam (Subject_Id, Date, Start_Time, End_Time) VALUES ('DAC01', '2022-02-11 00:00:00', '11:00:00', '13:00:00');\",\n",
       " \"INSERT INTO exam (Subject_Id, Date, Start_Time, End_Time) VALUES ('DAC02', '2022-02-13 00:00:00', '11:00:00', '13:00:00');\",\n",
       " \"INSERT INTO exam (Subject_Id, Date, Start_Time, End_Time) VALUES ('DAC03', '2022-02-14 00:00:00', '11:00:00', '13:00:00');\",\n",
       " \"INSERT INTO exam (Subject_Id, Date, Start_Time, End_Time) VALUES ('DAC04', '2022-02-15 00:00:00', '11:00:00', '13:00:00');\",\n",
       " \"INSERT INTO exam (Subject_Id, Date, Start_Time, End_Time) VALUES ('DAC05', '2022-02-16 00:00:00', '11:00:00', '13:00:00');\",\n",
       " \"INSERT INTO exam (Subject_Id, Date, Start_Time, End_Time) VALUES ('DAC06', '2022-02-17 00:00:00', '11:00:00', '13:00:00');\",\n",
       " \"INSERT INTO exam (Subject_Id, Date, Start_Time, End_Time) VALUES ('DAC07', '2022-02-18 00:00:00', '11:00:00', '13:00:00');\",\n",
       " \"INSERT INTO exam (Subject_Id, Date, Start_Time, End_Time) VALUES ('DAC08', '2022-02-20 00:00:00', '11:00:00', '13:00:00');\",\n",
       " \"INSERT INTO exam (Subject_Id, Date, Start_Time, End_Time) VALUES ('DAC09', '2022-02-21 00:00:00', '11:00:00', '13:00:00');\",\n",
       " \"INSERT INTO exam (Subject_Id, Date, Start_Time, End_Time) VALUES ('DBDA01', '2022-02-11 00:00:00', '11:00:00', '13:00:00');\",\n",
       " \"INSERT INTO exam (Subject_Id, Date, Start_Time, End_Time) VALUES ('DBDA02', '2022-02-13 00:00:00', '11:00:00', '13:00:00');\",\n",
       " \"INSERT INTO exam (Subject_Id, Date, Start_Time, End_Time) VALUES ('DBDA03', '2022-02-14 00:00:00', '11:00:00', '13:00:00');\",\n",
       " \"INSERT INTO exam (Subject_Id, Date, Start_Time, End_Time) VALUES ('DBDA04', '2022-02-15 00:00:00', '11:00:00', '13:00:00');\",\n",
       " \"INSERT INTO exam (Subject_Id, Date, Start_Time, End_Time) VALUES ('DBDA05', '2022-02-16 00:00:00', '11:00:00', '13:00:00');\",\n",
       " \"INSERT INTO exam (Subject_Id, Date, Start_Time, End_Time) VALUES ('DBDA06', '2022-02-17 00:00:00', '11:00:00', '13:00:00');\",\n",
       " \"INSERT INTO exam (Subject_Id, Date, Start_Time, End_Time) VALUES ('DBDA07', '2022-02-18 00:00:00', '11:00:00', '13:00:00');\",\n",
       " \"INSERT INTO exam (Subject_Id, Date, Start_Time, End_Time) VALUES ('DBDA08', '2022-02-20 00:00:00', '11:00:00', '13:00:00');\",\n",
       " \"INSERT INTO exam (Subject_Id, Date, Start_Time, End_Time) VALUES ('DBDA09', '2022-02-21 00:00:00', '11:00:00', '13:00:00');\",\n",
       " \"INSERT INTO exam (Subject_Id, Date, Start_Time, End_Time) VALUES ('DBDA10', '2022-02-22 00:00:00', '11:00:00', '13:00:00');\",\n",
       " \"INSERT INTO exam (Subject_Id, Date, Start_Time, End_Time) VALUES ('DESD01', '2022-02-11 00:00:00', '11:00:00', '13:00:00');\",\n",
       " \"INSERT INTO exam (Subject_Id, Date, Start_Time, End_Time) VALUES ('DESD02', '2022-02-13 00:00:00', '11:00:00', '13:00:00');\",\n",
       " \"INSERT INTO exam (Subject_Id, Date, Start_Time, End_Time) VALUES ('DESD03', '2022-02-14 00:00:00', '11:00:00', '13:00:00');\",\n",
       " \"INSERT INTO exam (Subject_Id, Date, Start_Time, End_Time) VALUES ('DESD04', '2022-02-15 00:00:00', '11:00:00', '13:00:00');\",\n",
       " \"INSERT INTO exam (Subject_Id, Date, Start_Time, End_Time) VALUES ('DESD05', '2022-02-16 00:00:00', '11:00:00', '13:00:00');\",\n",
       " \"INSERT INTO exam (Subject_Id, Date, Start_Time, End_Time) VALUES ('DESD06', '2022-02-17 00:00:00', '11:00:00', '13:00:00');\",\n",
       " \"INSERT INTO exam (Subject_Id, Date, Start_Time, End_Time) VALUES ('DESD07', '2022-02-18 00:00:00', '11:00:00', '13:00:00');\",\n",
       " \"INSERT INTO exam (Subject_Id, Date, Start_Time, End_Time) VALUES ('DESD08', '2022-02-20 00:00:00', '11:00:00', '13:00:00');\",\n",
       " \"INSERT INTO exam (Subject_Id, Date, Start_Time, End_Time) VALUES ('DESD09', '2022-02-21 00:00:00', '11:00:00', '13:00:00');\",\n",
       " \"INSERT INTO exam (Subject_Id, Date, Start_Time, End_Time) VALUES ('DAI01', '2022-02-11 00:00:00', '11:00:00', '13:00:00');\",\n",
       " \"INSERT INTO exam (Subject_Id, Date, Start_Time, End_Time) VALUES ('DAI02', '2022-02-13 00:00:00', '11:00:00', '13:00:00');\",\n",
       " \"INSERT INTO exam (Subject_Id, Date, Start_Time, End_Time) VALUES ('DAI03', '2022-02-14 00:00:00', '11:00:00', '13:00:00');\",\n",
       " \"INSERT INTO exam (Subject_Id, Date, Start_Time, End_Time) VALUES ('DAI04', '2022-02-15 00:00:00', '11:00:00', '13:00:00');\",\n",
       " \"INSERT INTO exam (Subject_Id, Date, Start_Time, End_Time) VALUES ('DAI05', '2022-02-16 00:00:00', '11:00:00', '13:00:00');\",\n",
       " \"INSERT INTO exam (Subject_Id, Date, Start_Time, End_Time) VALUES ('DAI06', '2022-02-17 00:00:00', '11:00:00', '13:00:00');\",\n",
       " \"INSERT INTO exam (Subject_Id, Date, Start_Time, End_Time) VALUES ('DAI07', '2022-02-18 00:00:00', '11:00:00', '13:00:00');\",\n",
       " \"INSERT INTO exam (Subject_Id, Date, Start_Time, End_Time) VALUES ('DAI08', '2022-02-20 00:00:00', '11:00:00', '13:00:00');\",\n",
       " \"INSERT INTO exam (Subject_Id, Date, Start_Time, End_Time) VALUES ('DAI09', '2022-02-21 00:00:00', '11:00:00', '13:00:00');\",\n",
       " \"INSERT INTO exam (Subject_Id, Date, Start_Time, End_Time) VALUES ('DAI10', '2022-02-22 00:00:00', '11:00:00', '13:00:00');\",\n",
       " \"INSERT INTO exam (Subject_Id, Date, Start_Time, End_Time) VALUES ('DAI11', '2022-02-23 00:00:00', '11:00:00', '13:00:00');\",\n",
       " \"INSERT INTO exam (Subject_Id, Date, Start_Time, End_Time) VALUES ('DITISS01', '2022-02-11 00:00:00', '11:00:00', '13:00:00');\",\n",
       " \"INSERT INTO exam (Subject_Id, Date, Start_Time, End_Time) VALUES ('DITISS02', '2022-02-13 00:00:00', '11:00:00', '13:00:00');\",\n",
       " \"INSERT INTO exam (Subject_Id, Date, Start_Time, End_Time) VALUES ('DITISS03', '2022-02-14 00:00:00', '11:00:00', '13:00:00');\",\n",
       " \"INSERT INTO exam (Subject_Id, Date, Start_Time, End_Time) VALUES ('DITISS04', '2022-02-15 00:00:00', '11:00:00', '13:00:00');\",\n",
       " \"INSERT INTO exam (Subject_Id, Date, Start_Time, End_Time) VALUES ('DITISS05', '2022-02-16 00:00:00', '11:00:00', '13:00:00');\",\n",
       " \"INSERT INTO exam (Subject_Id, Date, Start_Time, End_Time) VALUES ('DITISS06', '2022-02-17 00:00:00', '11:00:00', '13:00:00');\",\n",
       " \"INSERT INTO exam (Subject_Id, Date, Start_Time, End_Time) VALUES ('DITISS07', '2022-02-18 00:00:00', '11:00:00', '13:00:00');\",\n",
       " \"INSERT INTO exam (Subject_Id, Date, Start_Time, End_Time) VALUES ('DITISS08', '2022-02-20 00:00:00', '11:00:00', '13:00:00');\",\n",
       " \"INSERT INTO exam (Subject_Id, Date, Start_Time, End_Time) VALUES ('DITISS09', '2022-02-21 00:00:00', '11:00:00', '13:00:00');\",\n",
       " \"INSERT INTO exam (Subject_Id, Date, Start_Time, End_Time) VALUES ('DITISS10', '2022-02-22 00:00:00', '11:00:00', '13:00:00');\"]"
      ]
     },
     "execution_count": 18,
     "metadata": {},
     "output_type": "execute_result"
    }
   ],
   "source": [
    "insert_statements"
   ]
  },
  {
   "cell_type": "markdown",
   "id": "164bfac3",
   "metadata": {},
   "source": [
    "### Save statement"
   ]
  },
  {
   "cell_type": "code",
   "execution_count": 6,
   "id": "5365ced3",
   "metadata": {
    "ExecuteTime": {
     "end_time": "2023-10-12T11:34:39.886245Z",
     "start_time": "2023-10-12T11:34:39.865602Z"
    }
   },
   "outputs": [],
   "source": [
    "def save_to_txt(statements, output_file):\n",
    "    with open(output_file, 'w') as f:\n",
    "        f.write('\\n'.join(statements))"
   ]
  },
  {
   "cell_type": "code",
   "execution_count": 17,
   "id": "05932876",
   "metadata": {
    "ExecuteTime": {
     "end_time": "2023-10-12T11:38:12.297523Z",
     "start_time": "2023-10-12T11:38:12.275558Z"
    }
   },
   "outputs": [],
   "source": [
    "save_to_txt(insert_statements, 'exam.sql');"
   ]
  },
  {
   "cell_type": "code",
   "execution_count": null,
   "id": "1fc3de29",
   "metadata": {},
   "outputs": [],
   "source": []
  }
 ],
 "metadata": {
  "kernelspec": {
   "display_name": "Python 3 (ipykernel)",
   "language": "python",
   "name": "python3"
  },
  "language_info": {
   "codemirror_mode": {
    "name": "ipython",
    "version": 3
   },
   "file_extension": ".py",
   "mimetype": "text/x-python",
   "name": "python",
   "nbconvert_exporter": "python",
   "pygments_lexer": "ipython3",
   "version": "3.10.9"
  },
  "toc": {
   "base_numbering": 1,
   "nav_menu": {},
   "number_sections": true,
   "sideBar": true,
   "skip_h1_title": false,
   "title_cell": "Table of Contents",
   "title_sidebar": "Contents",
   "toc_cell": false,
   "toc_position": {},
   "toc_section_display": true,
   "toc_window_display": false
  }
 },
 "nbformat": 4,
 "nbformat_minor": 5
}
